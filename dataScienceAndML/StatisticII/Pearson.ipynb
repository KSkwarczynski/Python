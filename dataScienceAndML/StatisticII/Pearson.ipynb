{
 "cells": [
  {
   "cell_type": "code",
   "execution_count": 1,
   "metadata": {
    "collapsed": false
   },
   "outputs": [
   ],
   "source": [
    "import math\n",
    "import random"
   ]
  },
  {
   "cell_type": "code",
   "execution_count": 2,
   "metadata": {
    "collapsed": false
   },
   "outputs": [
    {
     "name": "stdout",
     "output_type": "stream",
     "text": [
      "[8, 4, -2, 5, -6, 3, -10, -8, -9, 5]\n",
      "[-7, 10, 0, 1, 9, 8, 9, 8, 0, 8]\n"
     ]
    }
   ],
   "source": [
    "#create data set x and y\n",
    "x = []\n",
    "y = []\n",
    "for i in range(10):\n",
    "    x.append(random.randint(-10,10))\n",
    "    y.append(random.randint(-10,10))\n",
    "print(x)\n",
    "print(y)"
   ]
  },
  {
   "cell_type": "code",
   "execution_count": 3,
   "metadata": {
    "collapsed": false
   },
   "outputs": [
   ],
   "source": [
    "def Mean(X):\n",
    "    mean = 0\n",
    "    for ic in range(0, len(X)):\n",
    "        mean = mean + X[ic]\n",
    "    mean = mean/len(X)\n",
    "    return mean"
   ]
  },
  {
   "cell_type": "code",
   "execution_count": 8,
   "metadata": {
    "collapsed": false
   },
   "outputs": [
   ],
   "source": [
    "def Cov(x,y):\n",
    "    meanX = Mean(x)\n",
    "    meanY = Mean(y)\n",
    "    cov = 0\n",
    "    for ic in range(0, len(x)):\n",
    "        cov = cov + x[ic]*y[ic]\n",
    "    cov = cov/len(x) - meanX*meanY \n",
    "    return cov"
   ]
  },
  {
   "cell_type": "code",
   "execution_count": 10,
   "metadata": {
    "collapsed": false
   },
   "outputs": [
   ],
   "source": [
    "def Variance(X):\n",
    "    mean = Mean(X)\n",
    "    variance = 0\n",
    "    for ic in range(0, len(X)):\n",
    "        variance = variance + math.pow(X[ic] - mean, 2)\n",
    "    variance = variance/len(X)\n",
    "    variance = math.sqrt(variance)\n",
    "    return variance"
   ]
  },
  {
   "cell_type": "code",
   "execution_count": 13,
   "metadata": {
    "collapsed": false
   },
   "outputs": [
   ],
   "source": [
    "#to calculate Pearson cooficient we used previous results\n",
    "def Pearson(x,y):\n",
    "    cov = Cov(x,y)\n",
    "    varX = Variance(x)\n",
    "    varY = Variance(y)\n",
    "    Pearson = 0\n",
    "    Pearson = cov/(varX*varY)\n",
    "    return Pearson"
   ]
  },
  {
   "cell_type": "code",
   "execution_count": 14,
   "metadata": {
    "collapsed": false
   },
   "outputs": [
    {
     "data": {
      "text/plain": [
       "-0.31328358739566736"
      ]
     },
     "execution_count": 14,
     "metadata": {
     },
     "output_type": "execute_result"
    }
   ],
   "source": [
    "Pearson(x,y)"
   ]
  },
  {
   "cell_type": "code",
   "execution_count": 0,
   "metadata": {
    "collapsed": false
   },
   "outputs": [
   ],
   "source": [
   ]
  }
 ],
 "metadata": {
  "kernelspec": {
   "display_name": "Python 3 (system-wide)",
   "language": "python",
   "metadata": {
    "cocalc": {
     "description": "Python 3 programming language",
     "priority": 100,
     "url": "https://www.python.org/"
    }
   },
   "name": "python3"
  },
  "language_info": {
   "codemirror_mode": {
    "name": "ipython",
    "version": 3
   },
   "file_extension": ".py",
   "mimetype": "text/x-python",
   "name": "python",
   "nbconvert_exporter": "python",
   "pygments_lexer": "ipython3",
   "version": "3.8.5"
  }
 },
 "nbformat": 4,
 "nbformat_minor": 4
}