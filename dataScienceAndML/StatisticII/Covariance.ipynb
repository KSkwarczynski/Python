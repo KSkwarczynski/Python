{
 "cells": [
  {
   "cell_type": "code",
   "execution_count": 1,
   "metadata": {
    "collapsed": false
   },
   "outputs": [
   ],
   "source": [
    "import math\n",
    "import random"
   ]
  },
  {
   "cell_type": "code",
   "execution_count": 2,
   "metadata": {
    "collapsed": false
   },
   "outputs": [
    {
     "name": "stdout",
     "output_type": "stream",
     "text": [
      "[-1, -8, -2, 5, -2, -9, -3, 2, 1, -8]\n",
      "[-9, -10, 1, -8, 5, -9, 10, -6, 5, -1]\n"
     ]
    }
   ],
   "source": [
    "#create data set x and y\n",
    "x = []\n",
    "y = []\n",
    "for i in range(10):\n",
    "    x.append(random.randint(-10,10))\n",
    "    y.append(random.randint(-10,10))\n",
    "print(x)\n",
    "print(y)"
   ]
  },
  {
   "cell_type": "code",
   "execution_count": 9,
   "metadata": {
    "collapsed": false
   },
   "outputs": [
   ],
   "source": [
    "def Mean(X):\n",
    "    mean = 0\n",
    "    for ic in range(0, len(X)):\n",
    "        mean = mean + X[ic]\n",
    "    mean = mean/len(X)\n",
    "    return mean"
   ]
  },
  {
   "cell_type": "code",
   "execution_count": 18,
   "metadata": {
    "collapsed": false
   },
   "outputs": [
   ],
   "source": [
    "def Cov(x,y):\n",
    "    meanX = Mean(x)\n",
    "    meanY = Mean(y)\n",
    "    cov = 0\n",
    "    for ic in range(0, len(x)):\n",
    "        cov = cov + x[ic]*y[ic]\n",
    "    cov = \n",
    "    return cov"
   ]
  },
  {
   "cell_type": "code",
   "execution_count": 19,
   "metadata": {
    "collapsed": false
   },
   "outputs": [
    {
     "data": {
      "text/plain": [
       "89"
      ]
     },
     "execution_count": 19,
     "metadata": {
     },
     "output_type": "execute_result"
    }
   ],
   "source": [
    "Cov(x,y)"
   ]
  },
  {
   "cell_type": "code",
   "execution_count": 0,
   "metadata": {
    "collapsed": false
   },
   "outputs": [
   ],
   "source": [
   ]
  }
 ],
 "metadata": {
  "kernelspec": {
   "display_name": "Python 3 (system-wide)",
   "language": "python",
   "metadata": {
    "cocalc": {
     "description": "Python 3 programming language",
     "priority": 100,
     "url": "https://www.python.org/"
    }
   },
   "name": "python3"
  },
  "language_info": {
   "codemirror_mode": {
    "name": "ipython",
    "version": 3
   },
   "file_extension": ".py",
   "mimetype": "text/x-python",
   "name": "python",
   "nbconvert_exporter": "python",
   "pygments_lexer": "ipython3",
   "version": "3.8.5"
  }
 },
 "nbformat": 4,
 "nbformat_minor": 4
}