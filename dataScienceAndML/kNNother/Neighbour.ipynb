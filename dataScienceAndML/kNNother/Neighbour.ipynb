{
 "cells": [
  {
   "cell_type": "code",
   "execution_count": 24,
   "metadata": {
    "collapsed": false
   },
   "outputs": [
   ],
   "source": [
    "import random\n",
    "import math\n",
    "import numpy as np\n",
    "from scipy.spatial.distance import cdist"
   ]
  },
  {
   "cell_type": "code",
   "execution_count": 2,
   "metadata": {
    "collapsed": false
   },
   "outputs": [
    {
     "name": "stdout",
     "output_type": "stream",
     "text": [
      "0.0009991869281720175\n"
     ]
    }
   ],
   "source": [
    "#UWAGA JUPYTER MI WARIOWAL ZE BRAKUJE PAMIECI, WIEC MUSIALEM ZMNIEJSZYC LICZBE PUNKTÓW BO WARIOWAŁ\n",
    "\n",
    "#dla jednego wymiaru\n",
    "data1D = np.random.uniform(0., 1., (1000))\n",
    "data1D.sort()\n",
    "Dist1D = 0\n",
    "for i in range( len(data1D)-1):\n",
    "    Dist1D = Dist1D + (data1D[i+1]-data1D[i])\n",
    "print(Dist1D/len(data1D))"
   ]
  },
  {
   "cell_type": "code",
   "execution_count": 3,
   "metadata": {
    "collapsed": false
   },
   "outputs": [
    {
     "name": "stdout",
     "output_type": "stream",
     "text": [
      "0.015707434245042843\n"
     ]
    }
   ],
   "source": [
    "#TERAZ PORA NA 2d\n",
    "data2D = np.random.uniform(0., 1., (1000, 2))\n",
    "dists = cdist(data2D, data2D)\n",
    "dists.sort()\n",
    "nn_dist = dists[:, 1]\n",
    "Dist2D = 0\n",
    "for i in range(len(data1D)):\n",
    "    Dist2D = Dist2D + nn_dist[i]\n",
    "print(Dist2D/len(data1D))"
   ]
  },
  {
   "cell_type": "code",
   "execution_count": 36,
   "metadata": {
    "collapsed": false
   },
   "outputs": [
    {
     "ename": "NameError",
     "evalue": "name 'FinalDist3D' is not defined",
     "output_type": "error",
     "traceback": [
      "\u001b[0;31m---------------------------------------------------------------------------\u001b[0m",
      "\u001b[0;31mNameError\u001b[0m                                 Traceback (most recent call last)",
      "\u001b[0;32m<ipython-input-36-87acf59ff7d4>\u001b[0m in \u001b[0;36m<module>\u001b[0;34m\u001b[0m\n\u001b[1;32m     12\u001b[0m     \u001b[0mDist3D\u001b[0m\u001b[0;34m.\u001b[0m\u001b[0mappend\u001b[0m\u001b[0;34m(\u001b[0m\u001b[0mRealTempDist3D\u001b[0m\u001b[0;34m)\u001b[0m\u001b[0;34m\u001b[0m\u001b[0;34m\u001b[0m\u001b[0m\n\u001b[1;32m     13\u001b[0m \u001b[0;34m\u001b[0m\u001b[0m\n\u001b[0;32m---> 14\u001b[0;31m \u001b[0mFinalDist3D\u001b[0m\u001b[0;34m\u001b[0m\u001b[0;34m\u001b[0m\u001b[0m\n\u001b[0m\u001b[1;32m     15\u001b[0m \u001b[0;32mfor\u001b[0m \u001b[0mi\u001b[0m \u001b[0;32min\u001b[0m \u001b[0mrange\u001b[0m\u001b[0;34m(\u001b[0m \u001b[0;36m1000\u001b[0m\u001b[0;34m)\u001b[0m\u001b[0;34m:\u001b[0m\u001b[0;34m\u001b[0m\u001b[0;34m\u001b[0m\u001b[0m\n\u001b[1;32m     16\u001b[0m     \u001b[0mFinalDist3D\u001b[0m \u001b[0;34m=\u001b[0m \u001b[0mFinalDist3D\u001b[0m \u001b[0;34m+\u001b[0m \u001b[0mDist3D\u001b[0m\u001b[0;34m[\u001b[0m\u001b[0mi\u001b[0m\u001b[0;34m]\u001b[0m\u001b[0;34m\u001b[0m\u001b[0;34m\u001b[0m\u001b[0m\n",
      "\u001b[0;31mNameError\u001b[0m: name 'FinalDist3D' is not defined"
     ]
    }
   ],
   "source": [
    "#dla trzech wymiarów\n",
    "data3D = np.random.uniform(0., 1., (1000, 3))\n",
    "Dist3D = []\n",
    "for i in range(1000):\n",
    "    TempDist3D = 0\n",
    "    RealTempDist3D = 10000\n",
    "    for j in range( 1000):\n",
    "        if(i == j): continue\n",
    "        TempDist3D = math.pow(data3D[i][0] - data3D[j][0], 2) + math.pow(data3D[i][1]-data3D[j][1], 2) + math.pow(data3D[i][2]-data3D[j][2], 2)\n",
    "        TempDist3D = math.sqrt(TempDist3D)\n",
    "        if(RealTempDist3D>TempDist3D): RealTempDist3D = TempDist3D        \n",
    "    Dist3D.append(RealTempDist3D)\n",
    "\n",
    "FinalDist3D = 0\n",
    "for i in range( 1000):\n",
    "    FinalDist3D = FinalDist3D + Dist3D[i]\n",
    "print(FinalDist3D/1000)    \n"
   ]
  },
  {
   "cell_type": "code",
   "execution_count": 0,
   "metadata": {
    "collapsed": false
   },
   "outputs": [
   ],
   "source": [
   ]
  },
  {
   "cell_type": "code",
   "execution_count": 0,
   "metadata": {
    "collapsed": false
   },
   "outputs": [
   ],
   "source": [
   ]
  },
  {
   "cell_type": "code",
   "execution_count": 0,
   "metadata": {
    "collapsed": false
   },
   "outputs": [
   ],
   "source": [
   ]
  }
 ],
 "metadata": {
  "kernelspec": {
   "display_name": "Python 3 (system-wide)",
   "language": "python",
   "metadata": {
    "cocalc": {
     "description": "Python 3 programming language",
     "priority": 100,
     "url": "https://www.python.org/"
    }
   },
   "name": "python3"
  },
  "language_info": {
   "codemirror_mode": {
    "name": "ipython",
    "version": 3
   },
   "file_extension": ".py",
   "mimetype": "text/x-python",
   "name": "python",
   "nbconvert_exporter": "python",
   "pygments_lexer": "ipython3",
   "version": "3.8.5"
  }
 },
 "nbformat": 4,
 "nbformat_minor": 4
}